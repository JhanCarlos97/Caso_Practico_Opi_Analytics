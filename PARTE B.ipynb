{
 "cells": [
  {
   "cell_type": "markdown",
   "metadata": {},
   "source": [
    "<a href=\"https://www.opianalytics.com/\"><img src = \"https://pythondaymx.github.io/images/opi-analytics.png\" width = 300></a>\n",
    "\n",
    "<h1 align=center><font size = 5>Resolución de caso práctico - Data Scientist</font></h1>"
   ]
  },
  {
   "cell_type": "markdown",
   "metadata": {},
   "source": [
    "#### Instrucciones:\n",
    "\n",
    "● Resuelve sólo una pregunta de la sección A, resuelve la pregunta de la sección B y\n",
    "resuelve el caso de la sección C.\n",
    "\n",
    "● No se darán puntos adicionales si resuelves más de una pregunta por sección.\n",
    "\n",
    "● Envía tus respuestas a más tardar 48 horas después de recibir el correo.\n",
    "\n",
    "● Las respuestas podrán ser enviadas en un PDF, un notebook, o con un link a tu\n",
    "repositorio de GitHub.\n",
    "\n",
    "● Debes especificar claramente las respuestas de cada inciso, e indicar el código usado."
   ]
  },
  {
   "cell_type": "markdown",
   "metadata": {},
   "source": [
    "<h2 align=\"center\"><b>Sección B<b></h2> "
   ]
  },
  {
   "cell_type": "markdown",
   "metadata": {},
   "source": [
    "Descarga la Base de datos histórica de <a href=\"https://datos.gob.mx/busca/dataset/quien-es-quien-en-los-precios/resource/d89a59ae-a42a-4d71-8c38-dd21d02027ab\">Quién es Quién en los Precios</a> de Profeco y resuelve los siguientes incisos. Para el procesamiento de los datos y el análisis exploratorio debes debes usar Spark SQL en el lenguaje de programación de tu elección.\n",
    "\n",
    "1. Procesamiento de los datos\n",
    "\n",
    "    a. ¿Cuántos registros hay?\n",
    "    \n",
    "    b. ¿Cuántas categorías?\n",
    "    \n",
    "    c. ¿Cuántas cadenas comerciales están siendo monitoreadas?\n",
    "    \n",
    "    d. ¿Cómo podrías determinar la calidad de los datos? ¿Detectaste algún tipo de inconsistencia o error en la fuente?\n",
    "    \n",
    "    e. ¿Cuáles son los productos más monitoreados en cada entidad?\n",
    "    \n",
    "    f. ¿Cuál es la cadena comercial con mayor variedad de productos monitoreados?\n",
    "    \n",
    "2. Análisis exploratorio\n",
    "\n",
    "    a. Genera una canasta de productos básicos que te permita comparar los precios geográfica y temporalmente. Justifica tu elección y procedimiento\n",
    "    \n",
    "    b. ¿Cuál es la ciudad más cara del país? ¿Cuál es la más barata?\n",
    "    \n",
    "    c. ¿Hay algún patrón estacional entre años?\n",
    "    \n",
    "    d. ¿Cuál es el estado más caro y en qué mes?\n",
    "    \n",
    "    e. ¿Cuáles son los principales riesgos de hacer análisis de series de tiempo con estos datos?\n",
    "    \n",
    "3. Visualización\n",
    "\n",
    "    a. Genera un mapa que nos permita identificar la oferta de categorías en la zona metropolitana de León Guanajuato y el nivel de precios en cada una de ellas. Se darán puntos extra si el mapa es interactivo"
   ]
  },
  {
   "cell_type": "code",
   "execution_count": null,
   "metadata": {},
   "outputs": [],
   "source": []
  },
  {
   "cell_type": "code",
   "execution_count": 4,
   "metadata": {},
   "outputs": [],
   "source": [
    "from pyspark.sql import *"
   ]
  },
  {
   "cell_type": "code",
   "execution_count": null,
   "metadata": {},
   "outputs": [],
   "source": [
    "data = spark."
   ]
  }
 ],
 "metadata": {
  "kernelspec": {
   "display_name": "Python 3",
   "language": "python",
   "name": "python3"
  },
  "language_info": {
   "codemirror_mode": {
    "name": "ipython",
    "version": 3
   },
   "file_extension": ".py",
   "mimetype": "text/x-python",
   "name": "python",
   "nbconvert_exporter": "python",
   "pygments_lexer": "ipython3",
   "version": "3.7.6"
  }
 },
 "nbformat": 4,
 "nbformat_minor": 4
}
